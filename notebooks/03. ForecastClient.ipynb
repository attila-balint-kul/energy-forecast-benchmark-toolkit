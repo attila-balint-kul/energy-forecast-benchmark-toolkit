{
 "cells": [
  {
   "cell_type": "code",
   "metadata": {},
   "source": [
    "import warnings\n",
    "\n",
    "warnings.filterwarnings(\"ignore\")\n",
    "\n",
    "import numpy as np\n",
    "import pandas as pd\n",
    "import matplotlib.pyplot as plt"
   ],
   "outputs": [],
   "execution_count": null
  },
  {
   "cell_type": "markdown",
   "metadata": {},
   "source": [
    "# Accessing the Electricity Demand Dataset"
   ]
  },
  {
   "cell_type": "markdown",
   "metadata": {},
   "source": [
    "This notebook assumes that you have downloaded the [electricity-demand](https://huggingface.co/datasets/EDS-lab/electricity-demand/tree/main/data) dataset from HuggingFace. To execute this notebook create a folder `data/electricity-demand/` and download the 3 files into it."
   ]
  },
  {
   "cell_type": "code",
   "metadata": {},
   "source": [
    "from enfobench.datasets import ElectricityDemandDataset\n",
    "\n",
    "ds = ElectricityDemandDataset(\"../data/electricity-demand\")"
   ],
   "outputs": [],
   "execution_count": null
  },
  {
   "cell_type": "code",
   "metadata": {
    "collapsed": false,
    "jupyter": {
     "outputs_hidden": false
    }
   },
   "source": [
    "unique_ids = ds.metadata_subset.list_unique_ids()\n",
    "unique_id = unique_ids[0]"
   ],
   "outputs": [],
   "execution_count": null
  },
  {
   "cell_type": "code",
   "metadata": {
    "collapsed": false,
    "jupyter": {
     "outputs_hidden": false
    }
   },
   "source": [
    "target, weather, metadata = ds.get_data_by_unique_id(unique_id)"
   ],
   "outputs": [],
   "execution_count": null
  },
  {
   "cell_type": "code",
   "metadata": {
    "collapsed": false,
    "jupyter": {
     "outputs_hidden": false
    }
   },
   "source": [
    "target.info()"
   ],
   "outputs": [],
   "execution_count": null
  },
  {
   "cell_type": "code",
   "metadata": {
    "collapsed": false,
    "jupyter": {
     "outputs_hidden": false
    }
   },
   "source": [
    "weather.info()"
   ],
   "outputs": [],
   "execution_count": null
  },
  {
   "cell_type": "code",
   "metadata": {},
   "source": [
    "from enfobench.datasets.utils import create_perfect_forecasts_from_covariates"
   ],
   "outputs": [],
   "execution_count": null
  },
  {
   "cell_type": "code",
   "metadata": {},
   "source": [
    "perfect_weather_forecasts = create_perfect_forecasts_from_covariates(\n",
    "    weather[['temperature_2m', 'relative_humidity_2m', 'wind_speed_10m', 'wind_direction_10m', 'cloud_cover']],\n",
    "    start=pd.Timestamp(\"2013-01-01T00:00:00\"),\n",
    "    horizon=pd.Timedelta(\"4 days\"),\n",
    "    step=pd.Timedelta(\"24 hour\"),\n",
    ")"
   ],
   "outputs": [],
   "execution_count": null
  },
  {
   "cell_type": "code",
   "metadata": {},
   "source": [
    "perfect_weather_forecasts.info()"
   ],
   "outputs": [],
   "execution_count": null
  },
  {
   "cell_type": "markdown",
   "metadata": {},
   "source": [
    "# Create Dataset"
   ]
  },
  {
   "cell_type": "code",
   "metadata": {},
   "source": [
    "from enfobench import Dataset\n",
    "\n",
    "dataset = Dataset(\n",
    "    target=target,\n",
    "    past_covariates=weather,\n",
    "    future_covariates=perfect_weather_forecasts,\n",
    "    metadata=metadata,\n",
    ")"
   ],
   "outputs": [],
   "execution_count": null
  },
  {
   "cell_type": "markdown",
   "metadata": {},
   "source": [
    "# Perform crossvalidation via server"
   ]
  },
  {
   "cell_type": "code",
   "metadata": {},
   "source": [
    "from enfobench.evaluation import ForecastClient\n",
    "\n",
    "client = ForecastClient(port=3000)"
   ],
   "outputs": [],
   "execution_count": null
  },
  {
   "cell_type": "code",
   "metadata": {
    "collapsed": false,
    "jupyter": {
     "outputs_hidden": false
    }
   },
   "source": [
    "client.info()"
   ],
   "outputs": [],
   "execution_count": null
  },
  {
   "cell_type": "code",
   "metadata": {},
   "source": [
    "from enfobench.evaluation import cross_validate\n",
    "\n",
    "crossval_df = cross_validate(\n",
    "    client,\n",
    "    dataset,\n",
    "    start_date=pd.Timestamp(\"2013-06-01T10:00:00\"),\n",
    "    end_date=pd.Timestamp(\"2013-07-01T00:00:00\"),\n",
    "    horizon=pd.Timedelta(\"38 hours\"),\n",
    "    step=pd.Timedelta(\"1 day\"),\n",
    ")"
   ],
   "outputs": [],
   "execution_count": null
  },
  {
   "cell_type": "code",
   "metadata": {},
   "source": [
    "crossval_df.head()"
   ],
   "outputs": [],
   "execution_count": null
  },
  {
   "cell_type": "code",
   "metadata": {
    "collapsed": false,
    "jupyter": {
     "outputs_hidden": false
    }
   },
   "source": [
    "import matplotlib.animation as animation\n",
    "\n",
    "plt.rcParams[\"animation.html\"] = \"jshtml\""
   ],
   "outputs": [],
   "execution_count": null
  },
  {
   "cell_type": "code",
   "metadata": {},
   "source": [
    "plt.ioff()\n",
    "fig, ax = plt.subplots(figsize=(12, 5))\n",
    "\n",
    "cutoff_dates = crossval_df.cutoff_date.unique()\n",
    "\n",
    "\n",
    "def animate_forecast(t):\n",
    "    plt.cla()\n",
    "\n",
    "    cutoff_date = cutoff_dates[t]\n",
    "    history = dataset.get_history(cutoff_date)\n",
    "    forecast = (\n",
    "        crossval_df.loc[crossval_df.cutoff_date == cutoff_date].set_index(\"timestamp\").drop(columns=[\"cutoff_date\"])\n",
    "    )\n",
    "\n",
    "    ax.plot(history.index, history.y)\n",
    "    ax.plot(forecast.index, forecast.yhat)\n",
    "    ax.set_xlim(cutoff_dates[0] - pd.Timedelta('7D'), crossval_df.timestamp.max())\n",
    "    ax.set_ylabel(\"Energy (kWh)\")\n",
    "    ax.set_title(f\"Predicted energy consumption at {cutoff_date}\", fontsize=\"large\", loc=\"left\")\n",
    "\n",
    "\n",
    "ani = animation.FuncAnimation(fig, animate_forecast, frames=len(cutoff_dates))\n",
    "ani"
   ],
   "outputs": [],
   "execution_count": null
  },
  {
   "cell_type": "code",
   "metadata": {},
   "source": [
    "plt.ion()\n",
    "plt.close()"
   ],
   "outputs": [],
   "execution_count": null
  },
  {
   "cell_type": "markdown",
   "metadata": {},
   "source": [
    "# Metrics"
   ]
  },
  {
   "cell_type": "code",
   "metadata": {},
   "source": [
    "from enfobench.evaluation import evaluate_metrics\n",
    "from enfobench.evaluation.metrics import mean_absolute_error, mean_bias_error"
   ],
   "outputs": [],
   "execution_count": null
  },
  {
   "cell_type": "code",
   "metadata": {
    "collapsed": false,
    "jupyter": {
     "outputs_hidden": false
    }
   },
   "source": [
    "overall_metrics = evaluate_metrics(crossval_df, metrics={\"MAE\": mean_absolute_error, \"MBE\": mean_bias_error})\n",
    "overall_metrics"
   ],
   "outputs": [],
   "execution_count": null
  },
  {
   "cell_type": "code",
   "metadata": {},
   "source": [
    "metrics_per_cutoff = evaluate_metrics(\n",
    "    crossval_df,\n",
    "    metrics={\"MAE\": mean_absolute_error, \"MBE\": mean_bias_error},\n",
    "    groupby=\"cutoff_date\",\n",
    ")\n",
    "metrics_per_cutoff.head()"
   ],
   "outputs": [],
   "execution_count": null
  },
  {
   "cell_type": "code",
   "metadata": {
    "collapsed": false,
    "jupyter": {
     "outputs_hidden": false
    }
   },
   "source": [
    "fig, ax = plt.subplots(figsize=(12, 5))\n",
    "metrics_per_cutoff.set_index(\"cutoff_date\")[[\"MAE\", \"MBE\"]].plot(ax=ax)\n",
    "ax.set_xlabel(\"Cutoff date\")\n",
    "ax.set_ylabel(\"Energy (kWh)\")\n",
    "ax.set_title(\"Prediction metrics per cutoff point\", fontsize=\"large\", loc=\"left\")\n",
    "plt.show()"
   ],
   "outputs": [],
   "execution_count": null
  },
  {
   "cell_type": "code",
   "metadata": {},
   "source": [],
   "outputs": [],
   "execution_count": null
  },
  {
   "cell_type": "code",
   "metadata": {},
   "source": [],
   "outputs": [],
   "execution_count": null
  }
 ],
 "metadata": {
  "kernelspec": {
   "display_name": "Python 3 (ipykernel)",
   "language": "python",
   "name": "python3"
  },
  "language_info": {
   "codemirror_mode": {
    "name": "ipython",
    "version": 3
   },
   "file_extension": ".py",
   "mimetype": "text/x-python",
   "name": "python",
   "nbconvert_exporter": "python",
   "pygments_lexer": "ipython3",
   "version": "3.11.5"
  }
 },
 "nbformat": 4,
 "nbformat_minor": 4
}
