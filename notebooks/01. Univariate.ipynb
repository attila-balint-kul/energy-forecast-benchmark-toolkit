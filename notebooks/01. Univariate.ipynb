{
 "cells": [
  {
   "cell_type": "code",
   "execution_count": null,
   "outputs": [],
   "source": [
    "import numpy as np\n",
    "import pandas as pd"
   ],
   "metadata": {
    "collapsed": false
   }
  },
  {
   "cell_type": "markdown",
   "source": [
    "# Load Data"
   ],
   "metadata": {
    "collapsed": false
   }
  },
  {
   "cell_type": "code",
   "execution_count": null,
   "outputs": [],
   "source": [
    "from enfobench.datasets import ElectricityDemandDataset\n",
    "\n",
    "ds = ElectricityDemandDataset(\"../data/electricity-demand\")"
   ],
   "metadata": {
    "collapsed": false
   }
  },
  {
   "cell_type": "code",
   "execution_count": null,
   "outputs": [],
   "source": [
    "unique_ids = ds.metadata_subset.list_unique_ids()"
   ],
   "metadata": {
    "collapsed": false
   }
  },
  {
   "cell_type": "code",
   "execution_count": null,
   "outputs": [],
   "source": [
    "len(unique_ids)"
   ],
   "metadata": {
    "collapsed": false
   }
  },
  {
   "cell_type": "code",
   "execution_count": null,
   "outputs": [],
   "source": [
    "unique_id = unique_ids[0]\n",
    "unique_id"
   ],
   "metadata": {
    "collapsed": false
   }
  },
  {
   "cell_type": "code",
   "execution_count": null,
   "outputs": [],
   "source": [
    "target, _, metadata = ds.get_data_by_unique_id(unique_id)"
   ],
   "metadata": {
    "collapsed": false
   }
  },
  {
   "cell_type": "code",
   "execution_count": null,
   "outputs": [],
   "source": [
    "target.info()"
   ],
   "metadata": {
    "collapsed": false
   }
  },
  {
   "cell_type": "markdown",
   "source": [
    "# Make external forecasts based on covariates"
   ],
   "metadata": {
    "collapsed": false
   }
  },
  {
   "cell_type": "markdown",
   "source": [
    "# Create Dataset"
   ],
   "metadata": {
    "collapsed": false
   }
  },
  {
   "cell_type": "code",
   "execution_count": null,
   "outputs": [],
   "source": [
    "from enfobench import Dataset\n",
    "\n",
    "univariate_dataset = Dataset(\n",
    "    target=target,\n",
    "    metadata=metadata,\n",
    ")"
   ],
   "metadata": {
    "collapsed": false
   }
  },
  {
   "cell_type": "markdown",
   "metadata": {},
   "source": [
    "# Create Model"
   ]
  },
  {
   "cell_type": "code",
   "execution_count": null,
   "metadata": {},
   "outputs": [],
   "source": [
    "from enfobench import AuthorInfo, ModelInfo, ForecasterType\n",
    "from enfobench.evaluation.utils import create_forecast_index\n",
    "\n",
    "\n",
    "class ExampleModel:\n",
    "    def __init__(self, param1: int):\n",
    "        self.param1 = param1\n",
    "\n",
    "    def info(self):\n",
    "        return ModelInfo(\n",
    "            name=\"TestModel\",\n",
    "            authors=[AuthorInfo(name=\"Attila Balint\")],\n",
    "            type=ForecasterType.point,\n",
    "            params={\n",
    "                \"param1\": 1,\n",
    "            },\n",
    "        )\n",
    "\n",
    "    def forecast(\n",
    "        self,\n",
    "        horizon: int,\n",
    "        history: pd.DataFrame,\n",
    "        past_covariates=None,\n",
    "        future_covariates=None,\n",
    "        metadata: dict | None = None,\n",
    "        level=None,\n",
    "        **kwargs,\n",
    "    ):\n",
    "        index = create_forecast_index(history, horizon)\n",
    "        return pd.DataFrame(\n",
    "            index=index,\n",
    "            data={\n",
    "                \"yhat\": np.full(horizon, fill_value=history[\"y\"].mean()) + self.param1,\n",
    "            },\n",
    "        )"
   ]
  },
  {
   "cell_type": "code",
   "execution_count": null,
   "outputs": [],
   "source": [
    "model = ExampleModel(1)"
   ],
   "metadata": {
    "collapsed": false
   }
  },
  {
   "cell_type": "markdown",
   "metadata": {},
   "source": [
    "# Perform crossvalidation on your model locally"
   ]
  },
  {
   "cell_type": "code",
   "execution_count": null,
   "metadata": {},
   "outputs": [],
   "source": [
    "from enfobench.evaluation import cross_validate\n",
    "\n",
    "crossval_df = cross_validate(\n",
    "    model,\n",
    "    univariate_dataset,\n",
    "    start_date=pd.Timestamp(\"2022-01-01T10:00:00\"),\n",
    "    end_date=pd.Timestamp(\"2022-02-01T00:00:00\"),\n",
    "    horizon=pd.Timedelta(\"38 hours\"),\n",
    "    step=pd.Timedelta(\"1 day\"),\n",
    ")"
   ]
  },
  {
   "cell_type": "code",
   "execution_count": null,
   "metadata": {},
   "outputs": [],
   "source": [
    "crossval_df.head()"
   ]
  },
  {
   "cell_type": "code",
   "execution_count": null,
   "outputs": [],
   "source": [
    "cutoff_date_to_plot = crossval_df.cutoff_date.unique()[0]\n",
    "crossval_df.loc[crossval_df.cutoff_date == cutoff_date_to_plot].set_index(\"timestamp\").drop(\n",
    "    columns=[\"cutoff_date\"]\n",
    ").plot()"
   ],
   "metadata": {
    "collapsed": false
   }
  },
  {
   "cell_type": "markdown",
   "metadata": {},
   "source": [
    "# Evaluate metrics"
   ]
  },
  {
   "cell_type": "code",
   "execution_count": null,
   "metadata": {},
   "outputs": [],
   "source": [
    "from enfobench.evaluation import evaluate_metrics\n",
    "from enfobench.evaluation.metrics import mean_absolute_error, mean_bias_error"
   ]
  },
  {
   "cell_type": "code",
   "execution_count": null,
   "outputs": [],
   "source": [
    "evaluate_metrics(crossval_df, metrics={\"MAE\": mean_absolute_error, \"MBE\": mean_bias_error})"
   ],
   "metadata": {
    "collapsed": false
   }
  },
  {
   "cell_type": "code",
   "execution_count": null,
   "metadata": {},
   "outputs": [],
   "source": [
    "metrics = evaluate_metrics(\n",
    "    crossval_df,\n",
    "    metrics={\"MAE\": mean_absolute_error, \"MBE\": mean_bias_error},\n",
    "    groupby=\"cutoff_date\",\n",
    ")\n",
    "metrics"
   ]
  },
  {
   "cell_type": "code",
   "execution_count": null,
   "metadata": {},
   "outputs": [],
   "source": [
    "metrics[[\"MAE\", \"MBE\"]].plot()"
   ]
  },
  {
   "cell_type": "code",
   "outputs": [],
   "source": [],
   "metadata": {
    "collapsed": false
   }
  }
 ],
 "metadata": {
  "kernelspec": {
   "display_name": "Python 3 (ipykernel)",
   "language": "python",
   "name": "python3"
  },
  "language_info": {
   "codemirror_mode": {
    "name": "ipython",
    "version": 3
   },
   "file_extension": ".py",
   "mimetype": "text/x-python",
   "name": "python",
   "nbconvert_exporter": "python",
   "pygments_lexer": "ipython3",
   "version": "3.10.9"
  }
 },
 "nbformat": 4,
 "nbformat_minor": 4
}
